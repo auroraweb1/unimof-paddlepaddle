{
 "cells": [
  {
   "cell_type": "markdown",
   "id": "e1b8fff5",
   "metadata": {},
   "source": [
    "### Step 1: 导入必要的库和设置日志格式"
   ]
  },
  {
   "cell_type": "code",
   "execution_count": null,
   "id": "c31b4855",
   "metadata": {},
   "outputs": [],
   "source": [
    "import sys\n",
    "import os\n",
    "import logging\n",
    "import pickle\n",
    "\n",
    "sys.path.append(\"/root/Uni-Mof-Main-PaddlePaddle\")\n",
    "\n",
    "import paddle\n",
    "from paddle_utils import *\n",
    "from unicore import checkpoint_utils, distributed_utils, options, tasks, utils\n",
    "from unicore.logging import progress_bar"
   ]
  },
  {
   "cell_type": "markdown",
   "id": "b8503a3c",
   "metadata": {},
   "source": [
    "### Step 2: 设置推理任务所需参数"
   ]
  },
  {
   "cell_type": "code",
   "execution_count": null,
   "id": "a8d47ebc",
   "metadata": {},
   "outputs": [],
   "source": [
    "DATA_PATH = \"/root/Uni-Mof-Main-PaddlePaddle/single-system_gas_adsorption_property_prediction\"\n",
    "USER_DIR = \"/root/Uni-Mof-Main-PaddlePaddle/unimof\"\n",
    "MODEL_PATH = \"/root/Uni-Mof-Main-PaddlePaddle/save_finetune_single_gpu/CoRE_LCD_bset.pdparams\"\n",
    "RESULTS_PATH = \"/root/Uni-Mof-Main-PaddlePaddle/results\"\n",
    "TASK_NAME = \"CoRE_LCD\"\n",
    "TASK_TYPE = \"unimof_v1\"\n",
    "LOSS = \"mof_v1_mse\"\n",
    "ARCH = \"unimat_base\"\n",
    "SUBSET = \"test\"\n",
    "BATCH_SIZE = 16\n",
    "NUM_WORKERS = 4\n",
    "DEVICE_ID = 0\n",
    "USE_FP16 = True\n",
    "FP16 = True\n",
    "\n",
    "# 注册 user-dir\n",
    "sys.path.insert(0, USER_DIR)"
   ]
  },
  {
   "cell_type": "markdown",
   "id": "0eae6828",
   "metadata": {},
   "source": [
    "### Step 3: 模拟命令行参数并解析"
   ]
  },
  {
   "cell_type": "code",
   "execution_count": null,
   "id": "79bc2a8f",
   "metadata": {},
   "outputs": [],
   "source": [
    "# 构建参数列表\n",
    "parser = options.get_validation_parser()\n",
    "options.add_model_args(parser)\n",
    "\n",
    "args_list = [\n",
    "    DATA_PATH,\n",
    "    \"--user-dir\", USER_DIR,\n",
    "    \"--task\", TASK_TYPE,\n",
    "    \"--task-name\", TASK_NAME,\n",
    "    \"--arch\", ARCH,\n",
    "    \"--valid-subset\", SUBSET,\n",
    "    \"--path\", MODEL_PATH,\n",
    "    \"--batch-size\", str(BATCH_SIZE),\n",
    "    \"--num-workers\", str(NUM_WORKERS),\n",
    "    \"--results-path\", RESULTS_PATH,\n",
    "    \"--device-id\", str(DEVICE_ID),\n",
    "    \"--loss\", LOSS,\n",
    "]\n",
    "if FP16:\n",
    "    args_list.append(\"--fp16\")\n",
    "\n",
    "args = options.parse_args_and_arch(parser, input_args=args_list)"
   ]
  },
  {
   "cell_type": "markdown",
   "id": "f77525d3",
   "metadata": {},
   "source": [
    "### Step 4: 加载模型参数并设置设备"
   ]
  },
  {
   "cell_type": "code",
   "execution_count": null,
   "id": "1c5e72ff",
   "metadata": {},
   "outputs": [
    {
     "name": "stdout",
     "output_type": "stream",
     "text": [
      "开始加载模型...\n",
      "模型权重已加载。\n",
      "设置任务和模型结构...\n",
      "模型结构和权重已就绪。\n",
      "使用半精度(fp16)推理。\n",
      "使用GPU: 0\n",
      "构建损失函数...\n",
      "损失函数已就绪。\n"
     ]
    }
   ],
   "source": [
    "# 设置 device\n",
    "use_fp16 = args.fp16\n",
    "use_cuda = paddle.device.cuda.device_count() >= 1 and not args.cpu\n",
    "if use_cuda:\n",
    "    paddle.device.set_device(device=device2str(args.device_id))\n",
    "\n",
    "\n",
    "print(\"开始加载模型...\")\n",
    "state = checkpoint_utils.load_checkpoint_to_cpu(args.path)\n",
    "print(\"模型权重已加载。\")\n",
    "\n",
    "print(\"设置任务和模型结构...\")\n",
    "task = tasks.setup_task(args)\n",
    "model = task.build_model(args)\n",
    "\n",
    "for key in list(state.keys()):\n",
    "    if any(k in key for k in ['fc1.weight', 'fc2.weight', 'in_proj.weight', 'linear1.weight', 'linear2.weight', 'out_proj.weight']):\n",
    "        state[key] = state[key].transpose([1, 0])\n",
    "\n",
    "model.set_state_dict(state_dict=state)\n",
    "print(\"模型结构和权重已就绪。\")\n",
    "\n",
    "\n",
    "if use_cuda:\n",
    "    print(f\"使用GPU: {args.device_id}\")\n",
    "    model.cuda()\n",
    "\n",
    "model.eval()\n",
    "print(\"构建损失函数...\")\n",
    "loss = task.build_loss(args)\n",
    "loss.eval()\n",
    "print(\"损失函数已就绪。\")"
   ]
  },
  {
   "cell_type": "markdown",
   "id": "e47007d9",
   "metadata": {},
   "source": [
    "### Step 5: 加载数据并执行推理"
   ]
  },
  {
   "cell_type": "code",
   "execution_count": null,
   "id": "100ad3ab",
   "metadata": {},
   "outputs": [
    {
     "name": "stdout",
     "output_type": "stream",
     "text": [
      "加载数据集: test\n",
      "开始推理，结果将保存到: /home/results/save_finetune_single_gpu_test.out.pkl\n",
      "推理完成，结果已保存到: /home/results/save_finetune_single_gpu_test.out.pkl\n"
     ]
    }
   ],
   "source": [
    "subset = SUBSET\n",
    "print(f\"加载数据集: {subset}\")\n",
    "task.load_dataset(subset, combine=False, epoch=1)\n",
    "dataset = task.dataset(subset)\n",
    "\n",
    "if not os.path.exists(args.results_path):\n",
    "    os.makedirs(args.results_path)\n",
    "\n",
    "save_path = os.path.join(args.results_path, \"predict_{}_{}.pkl\".format(TASK_NAME, subset))\n",
    "\n",
    "itr = task.get_batch_iterator(\n",
    "    dataset=dataset,\n",
    "    batch_size=args.batch_size,\n",
    "    ignore_invalid_inputs=True,\n",
    "    required_batch_size_multiple=args.required_batch_size_multiple,\n",
    "    seed=args.seed,\n",
    "    num_shards=1,\n",
    "    shard_id=0,\n",
    "    num_workers=0,\n",
    "    data_buffer_size=args.data_buffer_size,\n",
    ").next_epoch_itr(shuffle=False)\n",
    "\n",
    "progress = progress_bar.progress_bar(\n",
    "    itr,\n",
    "    log_format=args.log_format,\n",
    "    log_interval=args.log_interval,\n",
    "    prefix=f\"valid on '{subset}' subset\",\n",
    "    default_log_format=\"tqdm\" if not args.no_progress_bar else \"simple\",\n",
    ")\n",
    "\n",
    "log_outputs = []\n",
    "print(f\"开始推理，结果将保存到: {save_path}\")\n",
    "for i, sample in enumerate(progress):\n",
    "    sample = utils.move_to_cuda(sample) if use_cuda else sample\n",
    "    if len(sample) == 0:\n",
    "        continue\n",
    "    _, _, log_output = task.valid_step(sample, model, loss, test=True)\n",
    "    progress.log({}, step=i)\n",
    "    log_outputs.append(log_output)\n",
    "\n",
    "processed_log_outputs = []\n",
    "for log in log_outputs:\n",
    "    processed_log = {}\n",
    "    for k, v in log.items():\n",
    "        if hasattr(v, 'numpy'):\n",
    "            processed_log[k] = v.numpy()\n",
    "        else:\n",
    "            processed_log[k] = v\n",
    "    processed_log_outputs.append(processed_log)\n",
    "\n",
    "pickle.dump(log_outputs, open(save_path, \"wb\"))\n",
    "print(f\"推理完成，结果已保存到: {save_path}\")"
   ]
  },
  {
   "cell_type": "markdown",
   "id": "d5c0b236",
   "metadata": {},
   "source": [
    "### Step 6: 推理结果读取与R²评估"
   ]
  },
  {
   "cell_type": "code",
   "execution_count": 15,
   "id": "becf4766",
   "metadata": {},
   "outputs": [
    {
     "name": "stdout",
     "output_type": "stream",
     "text": [
      "R² Score: 0.7729\n"
     ]
    }
   ],
   "source": [
    "import pickle\n",
    "import numpy as np\n",
    "from sklearn.metrics import r2_score\n",
    "\n",
    "with open(\"/home/results/save_finetune_single_gpu_test.out.pkl\", \"rb\") as f:\n",
    "    results = pickle.load(f)  # results 通常是包含字典的列表\n",
    "    \n",
    "# 提取所有预测值和真实值\n",
    "all_preds = []\n",
    "all_targets = []\n",
    "for batch in results:\n",
    "    all_preds.extend(batch[\"predict\"].cpu().numpy().flatten())  # 转换为1D数组\n",
    "    all_targets.extend(batch[\"target\"].cpu().numpy().flatten())\n",
    "\n",
    "# 转换为NumPy数组\n",
    "all_preds = np.array(all_preds)\n",
    "all_targets = np.array(all_targets)\n",
    "\n",
    "r2 = r2_score(all_targets, all_preds)\n",
    "print(f\"R² Score: {r2:.4f}\")"
   ]
  }
 ],
 "metadata": {
  "kernelspec": {
   "display_name": "unimof",
   "language": "python",
   "name": "python3"
  },
  "language_info": {
   "codemirror_mode": {
    "name": "ipython",
    "version": 3
   },
   "file_extension": ".py",
   "mimetype": "text/x-python",
   "name": "python",
   "nbconvert_exporter": "python",
   "pygments_lexer": "ipython3",
   "version": "3.8.20"
  }
 },
 "nbformat": 4,
 "nbformat_minor": 5
}
